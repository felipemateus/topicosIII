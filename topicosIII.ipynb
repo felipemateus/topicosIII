{
 "cells": [
  {
   "cell_type": "markdown",
   "metadata": {},
   "source": [
    "## 1 - Avaliação 01\n"
   ]
  },
  {
   "cell_type": "markdown",
   "metadata": {},
   "source": [
    "### 01)"
   ]
  },
  {
   "cell_type": "code",
   "execution_count": 13,
   "metadata": {},
   "outputs": [
    {
     "data": {
      "text/plain": [
       "[<matplotlib.lines.Line2D at 0x7fe8e314c7f0>]"
      ]
     },
     "execution_count": 13,
     "metadata": {},
     "output_type": "execute_result"
    },
    {
     "data": {
      "image/png": "[encoded data removed]",
      "text/plain": [
       "<Figure size 432x288 with 1 Axes>"
      ]
     },
     "metadata": {
      "needs_background": "light"
     },
     "output_type": "display_data"
    }
   ],
   "source": [
    "from matplotlib import pyplot as plt\n",
    "import numpy as np\n",
    "import math\n",
    "%matplotlib inline\n",
    "h = np.arange(-100,300,1)\n",
    "area = 80*h-2*(h**2)\n",
    "plt.figure()\n",
    "plt.axis([-50,150,-2000, 2000])\n",
    "plt.plot(h,area)"
   ]
  },
  {
   "cell_type": "markdown",
   "metadata": {},
   "source": [
    "### 2)\n"
   ]
  },
  {
   "cell_type": "code",
   "execution_count": 25,
   "metadata": {},
   "outputs": [
    {
     "name": "stdout",
     "output_type": "stream",
     "text": [
      "r: 0.100000 || c: 1178.144369 \n",
      "r: 0.300000 || c: 392.840453 \n",
      "r: 0.500000 || c: 235.855068 \n",
      "r: 0.700000 || c: 168.629474 \n",
      "r: 0.900000 || c: 131.323809 \n",
      "r: 1.100000 || c: 107.618112 \n",
      "r: 1.300000 || c: 91.235476 \n",
      "r: 1.500000 || c: 79.246675 \n",
      "r: 1.700000 || c: 70.100944 \n",
      "r: 1.900000 || c: 62.900472 \n",
      "r: 2.100000 || c: 57.089470 \n",
      "r: 2.300000 || c: 52.305469 \n",
      "r: 2.500000 || c: 48.301987 \n",
      "r: 2.700000 || c: 44.905576 \n",
      "r: 2.900000 || c: 41.990636 \n",
      "r: 3.100000 || c: 39.463978 \n",
      "r: 3.300000 || c: 37.255005 \n",
      "r: 3.500000 || c: 35.309257 \n",
      "r: 3.700000 || c: 33.584050 \n",
      "r: 3.900000 || c: 32.045453 \n",
      "r: 4.100000 || c: 30.666159 \n",
      "r: 4.300000 || c: 29.423938 \n",
      "r: 4.500000 || c: 28.300514 \n",
      "r: 4.700000 || c: 27.280722 \n",
      "r: 4.900000 || c: 26.351872 \n",
      "r: 5.100000 || c: 25.503264 \n",
      "r: 5.300000 || c: 24.725816 \n",
      "r: 5.500000 || c: 24.011764 \n",
      "r: 5.700000 || c: 23.354434 \n",
      "r: 5.900000 || c: 22.748059 \n",
      "r: 6.100000 || c: 22.187627 \n",
      "r: 6.300000 || c: 21.668761 \n",
      "r: 6.500000 || c: 21.187626 \n",
      "r: 6.700000 || c: 20.740842 \n",
      "r: 6.900000 || c: 20.325422 \n",
      "r: 7.100000 || c: 19.938715 \n",
      "r: 7.300000 || c: 19.578362 \n",
      "r: 7.500000 || c: 19.242255 \n",
      "r: 7.700000 || c: 18.928504 \n",
      "r: 7.900000 || c: 18.635411 \n",
      "r: 8.100000 || c: 18.361446 \n",
      "r: 8.300000 || c: 18.105226 \n",
      "r: 8.500000 || c: 17.865498 \n",
      "r: 8.700000 || c: 17.641126 \n",
      "r: 8.900000 || c: 17.431074 \n",
      "r: 9.100000 || c: 17.234398 \n",
      "r: 9.300000 || c: 17.050234 \n",
      "r: 9.500000 || c: 16.877793 \n",
      "r: 9.700000 || c: 16.716350 \n",
      "r: 9.900000 || c: 16.565237 \n",
      "r: 10.100000 || c: 16.423842 \n",
      "r: 10.300000 || c: 16.291598 \n",
      "r: 10.500000 || c: 16.167982 \n",
      "r: 10.700000 || c: 16.052511 \n",
      "r: 10.900000 || c: 15.944736 \n",
      "r: 11.100000 || c: 15.844240 \n",
      "r: 11.300000 || c: 15.750639 \n",
      "r: 11.500000 || c: 15.663571 \n",
      "r: 11.700000 || c: 15.582702 \n",
      "r: 11.900000 || c: 15.507720 \n",
      "r: 12.100000 || c: 15.438332 \n",
      "r: 12.300000 || c: 15.374265 \n",
      "r: 12.500000 || c: 15.315264 \n",
      "r: 12.700000 || c: 15.261090 \n",
      "r: 12.900000 || c: 15.211519 \n",
      "r: 13.100000 || c: 15.166338 \n",
      "r: 13.300000 || c: 15.125351 \n",
      "r: 13.500000 || c: 15.088371 \n",
      "r: 13.700000 || c: 15.055223 \n",
      "r: 13.900000 || c: 15.025740 \n",
      "r: 14.100000 || c: 14.999768 \n",
      "r: 14.300000 || c: 14.977159 \n",
      "r: 14.500000 || c: 14.957773 \n",
      "r: 14.700000 || c: 14.941479 \n",
      "r: 14.900000 || c: 14.928153 \n",
      "r: 15.100000 || c: 14.917676 \n",
      "r: 15.300000 || c: 14.909937 \n",
      "r: 15.500000 || c: 14.904830 \n",
      "r: 15.700000 || c: 14.902255 \n",
      "r: 15.900000 || c: 14.902115 \n",
      "r: 16.100000 || c: 14.904320 \n",
      "r: 16.300000 || c: 14.908784 \n",
      "r: 16.500000 || c: 14.915425 \n",
      "r: 16.700000 || c: 14.924164 \n",
      "r: 16.900000 || c: 14.934927 \n",
      "r: 17.100000 || c: 14.947643 \n",
      "r: 17.300000 || c: 14.962244 \n",
      "r: 17.500000 || c: 14.978665 \n",
      "r: 17.700000 || c: 14.996845 \n",
      "r: 17.900000 || c: 15.016725 \n",
      "r: 18.100000 || c: 15.038249 \n",
      "r: 18.300000 || c: 15.061362 \n",
      "r: 18.500000 || c: 15.086013 \n",
      "r: 18.700000 || c: 15.112153 \n",
      "r: 18.900000 || c: 15.139734 \n",
      "r: 19.100000 || c: 15.168711 \n",
      "r: 19.300000 || c: 15.199042 \n",
      "r: 19.500000 || c: 15.230683 \n",
      "r: 19.700000 || c: 15.263595 \n",
      "r: 19.900000 || c: 15.297741 \n",
      "r: 20.100000 || c: 15.333082 \n",
      "r: 20.300000 || c: 15.369584 \n",
      "r: 20.500000 || c: 15.407213 \n",
      "r: 20.700000 || c: 15.445936 \n",
      "r: 20.900000 || c: 15.485722 \n",
      "r: 21.100000 || c: 15.526540 \n",
      "r: 21.300000 || c: 15.568362 \n",
      "r: 21.500000 || c: 15.611158 \n",
      "r: 21.700000 || c: 15.654904 \n",
      "r: 21.900000 || c: 15.699571 \n",
      "r: 22.100000 || c: 15.745136 \n",
      "r: 22.300000 || c: 15.791575 \n",
      "r: 22.500000 || c: 15.838863 \n",
      "r: 22.700000 || c: 15.886979 \n",
      "r: 22.900000 || c: 15.935900 \n",
      "r: 23.100000 || c: 15.985607 \n",
      "r: 23.300000 || c: 16.036078 \n",
      "r: 23.500000 || c: 16.087294 \n",
      "r: 23.700000 || c: 16.139236 \n",
      "r: 23.900000 || c: 16.191887 \n",
      "r: 24.100000 || c: 16.245228 \n",
      "r: 24.300000 || c: 16.299242 \n",
      "r: 24.500000 || c: 16.353913 \n",
      "r: 24.700000 || c: 16.409225 \n",
      "r: 24.900000 || c: 16.465163 \n",
      "r: 25.100000 || c: 16.521711 \n",
      "r: 25.300000 || c: 16.578855 \n",
      "r: 25.500000 || c: 16.636581 \n",
      "r: 25.700000 || c: 16.694876 \n",
      "r: 25.900000 || c: 16.753725 \n",
      "r: 26.100000 || c: 16.813118 \n",
      "r: 26.300000 || c: 16.873040 \n",
      "r: 26.500000 || c: 16.933481 \n",
      "r: 26.700000 || c: 16.994428 \n",
      "r: 26.900000 || c: 17.055870 \n",
      "r: 27.100000 || c: 17.117796 \n",
      "r: 27.300000 || c: 17.180196 \n",
      "r: 27.500000 || c: 17.243060 \n",
      "r: 27.700000 || c: 17.306376 \n",
      "r: 27.900000 || c: 17.370136 \n",
      "r: 28.100000 || c: 17.434330 \n",
      "r: 28.300000 || c: 17.498949 \n",
      "r: 28.500000 || c: 17.563983 \n",
      "r: 28.700000 || c: 17.629425 \n",
      "r: 28.900000 || c: 17.695265 \n",
      "r: 29.100000 || c: 17.761496 \n",
      "r: 29.300000 || c: 17.828109 \n",
      "r: 29.500000 || c: 17.895097 \n",
      "r: 29.700000 || c: 17.962453 \n",
      "r: 29.900000 || c: 18.030168 \n"
     ]
    },
    {
     "data": {
      "image/png": "[encoded data removed]",
      "text/plain": [
       "<Figure size 432x288 with 1 Axes>"
      ]
     },
     "metadata": {
      "needs_background": "light"
     },
     "output_type": "display_data"
    }
   ],
   "source": [
    "from matplotlib import pyplot as plt\n",
    "import numpy as np\n",
    "import math\n",
    "%matplotlib inline\n",
    "r = np.arange(0.1,30,0.2)\n",
    "c = 0.15*math.pi*r + 37.5*math.pi*(r**(-1))\n",
    "plt.figure()\n",
    "plt.axis([0,30,-20, 100])\n",
    "plt.plot(r,c)\n",
    "for i in range(r.shape[0]):\n",
    "    print(\"r: %f || c: %f \" %(r[i],c[i]) )\n"
   ]
  },
  {
   "cell_type": "code",
   "execution_count": 29,
   "metadata": {},
   "outputs": [
    {
     "name": "stdout",
     "output_type": "stream",
     "text": [
      "89\n"
     ]
    }
   ],
   "source": [
    "next_x = 0\n",
    "gamma = 0.05\n",
    "precision = 0.00001\n",
    "max_iters = 10000\n",
    "\n",
    "num_iters = 0\n",
    "\n",
    "def df(x):\n",
    "    return 2*x+2\n",
    "\n",
    "for i in range(max_iters):\n",
    "    current_x = next_x\n",
    "    next_x = current_x - gamma*df(current_x)\n",
    "    step = next_x - current_x\n",
    "    num_iters+=1\n",
    "    if abs(step)<=precision:\n",
    "        break\n",
    "print(num_iters)"
   ]
  },
  {
   "cell_type": "code",
   "execution_count": null,
   "metadata": {},
   "outputs": [],
   "source": []
  }
 ],
 "metadata": {
  "kernelspec": {
   "display_name": "Python 3",
   "language": "python",
   "name": "python3"
  },
  "language_info": {
   "codemirror_mode": {
    "name": "ipython",
    "version": 3
   },
   "file_extension": ".py",
   "mimetype": "text/x-python",
   "name": "python",
   "nbconvert_exporter": "python",
   "pygments_lexer": "ipython3",
   "version": "3.6.8"
  }
 },
 "nbformat": 4,
 "nbformat_minor": 2
}
