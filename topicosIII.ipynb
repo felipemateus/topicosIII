{
 "cells": [
  {
   "cell_type": "markdown",
   "metadata": {},
   "source": [
    "## 1 - Avaliação 01 (Otimização por algoritimos interativos)\n"
   ]
  },
  {
   "cell_type": "markdown",
   "metadata": {},
   "source": [
    "### 01)"
   ]
  },
  {
   "cell_type": "code",
   "execution_count": 13,
   "metadata": {},
   "outputs": [
    {
     "data": {
      "text/plain": [
       "[<matplotlib.lines.Line2D at 0x7fe8e314c7f0>]"
      ]
     },
     "execution_count": 13,
     "metadata": {},
     "output_type": "execute_result"
    },
    {
     "data": {
      "image/png": "[encoded data removed]",
      "text/plain": [
       "<Figure size 432x288 with 1 Axes>"
      ]
     },
     "metadata": {
      "needs_background": "light"
     },
     "output_type": "display_data"
    }
   ],
   "source": [
    "                                                                                                                                                                                                                                                                                                                                                                            00from matplotlib import pyplot as plt\n",
    "import numpy as np\n",
    "import math\n",
    "%matplotlib inline\n",
    "h = np.arange(-100,300,1)\n",
    "area = 80*h-2*(h**2)\n",
    "plt.figure()\n",
    "plt.axis([-50,150,-2000, 2000])\n",
    "plt.plot(h,area)"
   ]
  },
  {
   "cell_type": "markdown",
   "metadata": {},
   "source": [
    "### 2)\n"
   ]
  },
  {
   "cell_type": "code",
   "execution_count": 4,
   "metadata": {},
   "outputs": [
    {
     "name": "stdout",
     "output_type": "stream",
     "text": [
      "r: 0.100000 || c: 1178.101957 \n",
      "r: 0.300000 || c: 392.741493 \n",
      "r: 0.500000 || c: 235.737259 \n",
      "r: 0.700000 || c: 168.530514 \n",
      "r: 0.900000 || c: 131.281397 \n",
      "r: 1.100000 || c: 107.669949 \n",
      "r: 1.300000 || c: 91.419259 \n",
      "r: 1.500000 || c: 79.600104 \n",
      "r: 1.700000 || c: 70.661718 \n",
      "r: 1.900000 || c: 63.706291 \n",
      "r: 2.100000 || c: 58.178032 \n",
      "r: 2.300000 || c: 53.714473 \n",
      "r: 2.500000 || c: 50.069133 \n",
      "r: 2.700000 || c: 47.068563 \n",
      "r: 2.900000 || c: 44.587162 \n",
      "r: 3.100000 || c: 42.531743 \n",
      "r: 3.300000 || c: 40.831708 \n",
      "r: 3.500000 || c: 39.432598 \n",
      "r: 3.700000 || c: 38.291727 \n",
      "r: 3.900000 || c: 37.375165 \n",
      "r: 4.100000 || c: 36.655605 \n",
      "r: 4.300000 || c: 36.110818 \n",
      "r: 4.500000 || c: 35.722526 \n",
      "r: 4.700000 || c: 35.475566 \n",
      "r: 4.900000 || c: 35.357247 \n",
      "r: 5.100000 || c: 35.356870 \n",
      "r: 5.300000 || c: 35.465351 \n",
      "r: 5.500000 || c: 35.674927 \n",
      "r: 5.700000 || c: 35.978925 \n",
      "r: 5.900000 || c: 36.371576 \n",
      "r: 6.100000 || c: 36.847869 \n",
      "r: 6.300000 || c: 37.403428 \n",
      "r: 6.500000 || c: 38.034416 \n",
      "r: 6.700000 || c: 38.737455 \n",
      "r: 6.900000 || c: 39.509557 \n",
      "r: 7.100000 || c: 40.348072 \n",
      "r: 7.300000 || c: 41.250639 \n",
      "r: 7.500000 || c: 42.215151 \n",
      "r: 7.700000 || c: 43.239718 \n",
      "r: 7.900000 || c: 44.322643 \n",
      "r: 8.100000 || c: 45.462395 \n",
      "r: 8.300000 || c: 46.657590 \n",
      "r: 8.500000 || c: 47.906978 \n",
      "r: 8.700000 || c: 49.209420 \n",
      "r: 8.900000 || c: 50.563881 \n",
      "r: 9.100000 || c: 51.969417 \n",
      "r: 9.300000 || c: 53.425165 \n",
      "r: 9.500000 || c: 54.930334 \n",
      "r: 9.700000 || c: 56.484200 \n",
      "r: 9.900000 || c: 58.086097 \n",
      "r: 10.100000 || c: 59.735409 \n",
      "r: 10.300000 || c: 61.431572 \n",
      "r: 10.500000 || c: 63.174062 \n",
      "r: 10.700000 || c: 64.962396 \n",
      "r: 10.900000 || c: 66.796125 \n",
      "r: 11.100000 || c: 68.674833 \n",
      "r: 11.300000 || c: 70.598134 \n",
      "r: 11.500000 || c: 72.565668 \n",
      "r: 11.700000 || c: 74.577100 \n",
      "r: 11.900000 || c: 76.632117 \n",
      "r: 12.100000 || c: 78.730428 \n",
      "r: 12.300000 || c: 80.871759 \n",
      "r: 12.500000 || c: 83.055856 \n",
      "r: 12.700000 || c: 85.282478 \n",
      "r: 12.900000 || c: 87.551402 \n",
      "r: 13.100000 || c: 89.862416 \n",
      "r: 13.300000 || c: 92.215323 \n",
      "r: 13.500000 || c: 94.609935 \n",
      "r: 13.700000 || c: 97.046079 \n",
      "r: 13.900000 || c: 99.523587 \n",
      "r: 14.100000 || c: 102.042305 \n",
      "r: 14.300000 || c: 104.602085 \n",
      "r: 14.500000 || c: 107.202787 \n",
      "r: 14.700000 || c: 109.844280 \n",
      "r: 14.900000 || c: 112.526441 \n",
      "r: 15.100000 || c: 115.249150 \n",
      "r: 15.300000 || c: 118.012296 \n",
      "r: 15.500000 || c: 120.815773 \n",
      "r: 15.700000 || c: 123.659480 \n",
      "r: 15.900000 || c: 126.543322 \n",
      "r: 16.100000 || c: 129.467209 \n",
      "r: 16.300000 || c: 132.431053 \n",
      "r: 16.500000 || c: 135.434773 \n",
      "r: 16.700000 || c: 138.478291 \n",
      "r: 16.900000 || c: 141.561531 \n",
      "r: 17.100000 || c: 144.684424 \n",
      "r: 17.300000 || c: 147.846900 \n",
      "r: 17.500000 || c: 151.048897 \n",
      "r: 17.700000 || c: 154.290351 \n",
      "r: 17.900000 || c: 157.571204 \n",
      "r: 18.100000 || c: 160.891400 \n",
      "r: 18.300000 || c: 164.250884 \n",
      "r: 18.500000 || c: 167.649606 \n",
      "r: 18.700000 || c: 171.087516 \n",
      "r: 18.900000 || c: 174.564566 \n",
      "r: 19.100000 || c: 178.080711 \n",
      "r: 19.300000 || c: 181.635908 \n",
      "r: 19.500000 || c: 185.230115 \n",
      "r: 19.700000 || c: 188.863293 \n",
      "r: 19.900000 || c: 192.535403 \n",
      "r: 20.100000 || c: 196.246408 \n",
      "r: 20.300000 || c: 199.996272 \n",
      "r: 20.500000 || c: 203.784963 \n",
      "r: 20.700000 || c: 207.612446 \n",
      "r: 20.900000 || c: 211.478692 \n",
      "r: 21.100000 || c: 215.383669 \n",
      "r: 21.300000 || c: 219.327349 \n",
      "r: 21.500000 || c: 223.309703 \n",
      "r: 21.700000 || c: 227.330704 \n",
      "r: 21.900000 || c: 231.390327 \n",
      "r: 22.100000 || c: 235.488547 \n",
      "r: 22.300000 || c: 239.625339 \n",
      "r: 22.500000 || c: 243.800680 \n",
      "r: 22.700000 || c: 248.014547 \n",
      "r: 22.900000 || c: 252.266920 \n",
      "r: 23.100000 || c: 256.557776 \n",
      "r: 23.300000 || c: 260.887097 \n",
      "r: 23.500000 || c: 265.254861 \n",
      "r: 23.700000 || c: 269.661051 \n",
      "r: 23.900000 || c: 274.105648 \n",
      "r: 24.100000 || c: 278.588635 \n",
      "r: 24.300000 || c: 283.109994 \n",
      "r: 24.500000 || c: 287.669709 \n",
      "r: 24.700000 || c: 292.267764 \n",
      "r: 24.900000 || c: 296.904143 \n",
      "r: 25.100000 || c: 301.578833 \n",
      "r: 25.300000 || c: 306.291817 \n",
      "r: 25.500000 || c: 311.043083 \n",
      "r: 25.700000 || c: 315.832616 \n",
      "r: 25.900000 || c: 320.660403 \n",
      "r: 26.100000 || c: 325.526432 \n",
      "r: 26.300000 || c: 330.430691 \n",
      "r: 26.500000 || c: 335.373166 \n",
      "r: 26.700000 || c: 340.353847 \n",
      "r: 26.900000 || c: 345.372723 \n",
      "r: 27.100000 || c: 350.429781 \n",
      "r: 27.300000 || c: 355.525013 \n",
      "r: 27.500000 || c: 360.658407 \n",
      "r: 27.700000 || c: 365.829953 \n",
      "r: 27.900000 || c: 371.039641 \n",
      "r: 28.100000 || c: 376.287463 \n",
      "r: 28.300000 || c: 381.573409 \n",
      "r: 28.500000 || c: 386.897469 \n",
      "r: 28.700000 || c: 392.259636 \n",
      "r: 28.900000 || c: 397.659901 \n",
      "r: 29.100000 || c: 403.098255 \n",
      "r: 29.300000 || c: 408.574691 \n",
      "r: 29.500000 || c: 414.089201 \n",
      "r: 29.700000 || c: 419.641777 \n",
      "r: 29.900000 || c: 425.232412 \n"
     ]
    },
    {
     "data": {
      "image/png": "[encoded data removed]",
      "text/plain": [
       "<Figure size 432x288 with 1 Axes>"
      ]
     },
     "metadata": {
      "needs_background": "light"
     },
     "output_type": "display_data"
    }
   ],
   "source": [
    "from matplotlib import pyplot as plt\n",
    "import numpy as np\n",
    "import math\n",
    "%matplotlib inline\n",
    "r = np.arange(0.1,30,0.2)\n",
    "c = 0.15*math.pi*r**(2) + 37.5*math.pi*(r**(-1))\n",
    "plt.figure()\n",
    "plt.axis([0,30,-20, 100])\n",
    "plt.plot(r,c)\n",
    "for i in range(r.shape[0]):\n",
    "    print(\"r: %f || c: %f \" %(r[i],c[i]) )\n"
   ]
  },
  {
   "cell_type": "code",
   "execution_count": 24,
   "metadata": {},
   "outputs": [
    {
     "name": "stdout",
     "output_type": "stream",
     "text": [
      "9999\n"
     ]
    }
   ],
   "source": [
    "#para a'=80-4h\n",
    "import numpy\n",
    "import matplotlib\n",
    "a_inicial = 0.0\n",
    "gamma = 0.5\n",
    "\n",
    "def der(x):\n",
    "    return (80-(4*x))\n",
    "\n",
    "for i in range(10000):\n",
    "    a_proximo = a_inicial + gamma*der(a_inicial)\n",
    "    \n",
    "    if(a_proximo == a_inicial):\n",
    "        print(a_proximo)\n",
    "        break\n",
    "    \n",
    "    a_inicial = a_proximo\n",
    "\n",
    "print(i)\n",
    "\n"
   ]
  },
  {
   "cell_type": "code",
   "execution_count": null,
   "metadata": {},
   "outputs": [],
   "source": []
  },
  {
   "cell_type": "code",
   "execution_count": null,
   "metadata": {},
   "outputs": [],
   "source": []
  },
  {
   "cell_type": "code",
   "execution_count": 29,
   "metadata": {},
   "outputs": [
    {
     "name": "stdout",
     "output_type": "stream",
     "text": [
      "89\n"
     ]
    }
   ],
   "source": [
    "next_x = 0\n",
    "gamma = 0.05\n",
    "precision = 0.00001\n",
    "max_iters = 10000\n",
    "\n",
    "num_iters = 0\n",
    "\n",
    "def df(x):\n",
    "    return 2*x+2\n",
    "\n",
    "for i in range(max_iters):\n",
    "    current_x = next_x\n",
    "    next_x = current_x - gamma*df(current_x)\n",
    "    step = next_x - current_x\n",
    "    num_iters+=1\n",
    "    if abs(step)<=precision:\n",
    "        break\n",
    "print(num_iters)"
   ]
  },
  {
   "cell_type": "code",
   "execution_count": null,
   "metadata": {},
   "outputs": [],
   "source": []
  }
 ],
 "metadata": {
  "kernelspec": {
   "display_name": "Python 3",
   "language": "python",
   "name": "python3"
  },
  "language_info": {
   "codemirror_mode": {
    "name": "ipython",
    "version": 3
   },
   "file_extension": ".py",
   "mimetype": "text/x-python",
   "name": "python",
   "nbconvert_exporter": "python",
   "pygments_lexer": "ipython3",
   "version": "3.6.8"
  }
 },
 "nbformat": 4,
 "nbformat_minor": 2
}
